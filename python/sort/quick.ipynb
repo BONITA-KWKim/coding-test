{
 "cells": [
  {
   "cell_type": "code",
   "execution_count": 23,
   "metadata": {},
   "outputs": [],
   "source": [
    "def partition(arr):\n",
    "    p = 0\n",
    "    pivot = arr[0]\n",
    "    for i in range(1, len(arr)):\n",
    "        if pivot > arr[i]:\n",
    "            p += 1\n",
    "            tmp = arr[i]\n",
    "            arr[i] = arr[p]\n",
    "            arr[p] = tmp\n",
    "    \n",
    "    arr[0] = arr[p]\n",
    "    arr[p] = pivot\n",
    "    \n",
    "    return p"
   ]
  },
  {
   "cell_type": "code",
   "execution_count": 48,
   "metadata": {},
   "outputs": [],
   "source": [
    "def quick_sort(arr):\n",
    "    if 1 >= len(arr): \n",
    "        return arr\n",
    "    p = partition(arr)\n",
    "\n",
    "    arr[:p+1] = quick_sort(arr[:p+1])\n",
    "    arr[p+1:] = quick_sort(arr[p+1:])\n",
    "    \n",
    "    return arr "
   ]
  },
  {
   "cell_type": "code",
   "execution_count": 50,
   "metadata": {},
   "outputs": [
    {
     "name": "stdout",
     "output_type": "stream",
     "text": [
      "[1, 2, 3, 4, 5, 6]\n",
      "[]\n",
      "[3, 3, 3]\n",
      "[1, 4, 5, 23, 67, 222, 222, 333, 34786]\n"
     ]
    }
   ],
   "source": [
    "test_arr = [5, 1, 6, 4, 2, 3]\n",
    "print(quick_sort(test_arr))\n",
    "test_arr = []\n",
    "print(quick_sort(test_arr))\n",
    "test_arr = [3, 3, 3]\n",
    "print(quick_sort(test_arr))\n",
    "test_arr = [5, 1, 4, 23, 67, 34786, 222, 333, 222]\n",
    "print(quick_sort(test_arr))"
   ]
  }
 ],
 "metadata": {
  "kernelspec": {
   "display_name": "Python 3",
   "language": "python",
   "name": "python3"
  },
  "language_info": {
   "codemirror_mode": {
    "name": "ipython",
    "version": 3
   },
   "file_extension": ".py",
   "mimetype": "text/x-python",
   "name": "python",
   "nbconvert_exporter": "python",
   "pygments_lexer": "ipython3",
   "version": "3.8.2"
  }
 },
 "nbformat": 4,
 "nbformat_minor": 4
}
