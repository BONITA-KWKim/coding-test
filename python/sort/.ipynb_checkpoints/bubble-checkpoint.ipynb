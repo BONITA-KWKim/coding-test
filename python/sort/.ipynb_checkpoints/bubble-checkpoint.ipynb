{
 "cells": [
  {
   "cell_type": "code",
   "execution_count": 2,
   "metadata": {},
   "outputs": [],
   "source": [
    "def bubble_sort(arr):\n",
    "    size = len(arr)\n",
    "    \n",
    "    for i in range(size, 0, -1):\n",
    "        for j in range(1, i):\n",
    "            if arr[j-1] > arr[j]:\n",
    "                # exchnage\n",
    "                tmp = arr[j-1]\n",
    "                arr[j-1] = arr[j]\n",
    "                arr[j] = tmp\n",
    "    \n",
    "    return arr"
   ]
  },
  {
   "cell_type": "code",
   "execution_count": 3,
   "metadata": {},
   "outputs": [
    {
     "name": "stdout",
     "output_type": "stream",
     "text": [
      "[1, 2, 3, 4, 5, 6]\n",
      "[]\n",
      "[3, 3, 3]\n",
      "[1, 4, 5, 23, 67, 222, 222, 333, 34786]\n"
     ]
    }
   ],
   "source": [
    "test_arr = [5, 1, 6, 4, 2, 3]\n",
    "print(bubble_sort(test_arr))\n",
    "test_arr = []\n",
    "print(bubble_sort(test_arr))\n",
    "test_arr = [3, 3, 3]\n",
    "print(bubble_sort(test_arr))\n",
    "test_arr = [5, 1, 4, 23, 67, 34786, 222, 333, 222]\n",
    "print(bubble_sort(test_arr))"
   ]
  }
 ],
 "metadata": {
  "kernelspec": {
   "display_name": "Python 3",
   "language": "python",
   "name": "python3"
  },
  "language_info": {
   "codemirror_mode": {
    "name": "ipython",
    "version": 3
   },
   "file_extension": ".py",
   "mimetype": "text/x-python",
   "name": "python",
   "nbconvert_exporter": "python",
   "pygments_lexer": "ipython3",
   "version": "3.8.2"
  }
 },
 "nbformat": 4,
 "nbformat_minor": 4
}
