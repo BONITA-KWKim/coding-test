{
 "cells": [
  {
   "cell_type": "code",
   "execution_count": 6,
   "metadata": {},
   "outputs": [
    {
     "name": "stdout",
     "output_type": "stream",
     "text": [
      "4 [4, 2, 1, 3, 5, 6, 8, 7]\n"
     ]
    }
   ],
   "source": [
    "# partition\n",
    "def partition(arr):\n",
    "    if 0 >= len(arr): return\n",
    "\n",
    "    pivot = arr[0]\n",
    "\n",
    "    rst = []\n",
    "    for i in arr:\n",
    "        if i < pivot:\n",
    "            rst.append(i)\n",
    "    \n",
    "    rst.append(pivot)\n",
    "\n",
    "    for i in arr:\n",
    "        if i > pivot:\n",
    "            rst.append(i)\n",
    "\n",
    "    return rst\n",
    "\n",
    "def partition2(arr):\n",
    "    if 0 >= len(arr): return\n",
    "\n",
    "    p = 0\n",
    "    pivot = arr[0]\n",
    "\n",
    "    for i in range(1, len(arr)):\n",
    "        if arr[i] > pivot: \n",
    "            continue\n",
    "        elif arr[i] < pivot:\n",
    "            tmp = arr[p+1]\n",
    "            arr[p+1] = arr[i]\n",
    "            arr[i] = tmp\n",
    "            p += 1\n",
    "    \n",
    "    tmp = arr[p]\n",
    "    arr[p] = arr[0]\n",
    "    arr[0] = tmp\n",
    "\n",
    "    return p\n",
    "\n",
    "test_arr = [5, 2, 1, 8, 3, 6, 4, 7]\n",
    "print(partition2(test_arr), test_arr)"
   ]
  },
  {
   "cell_type": "code",
   "execution_count": 8,
   "metadata": {},
   "outputs": [
    {
     "name": "stdout",
     "output_type": "stream",
     "text": [
      "[1, 2, 3, 4, 5, 6, 7, 8]\n",
      "[1, 2, 3]\n"
     ]
    }
   ],
   "source": [
    "# q-sort\n",
    "def quicksort(arr):\n",
    "    size = len(arr)\n",
    "    if 1 >= size: return arr\n",
    "\n",
    "    p = partition2(arr)\n",
    "    \n",
    "    arr[:p+1] = quicksort(arr[:p+1])\n",
    "    arr[p+1:] = quicksort(arr[p+1:])\n",
    "\n",
    "    return arr\n",
    "\n",
    "test_arr = [5, 7, 1, 8, 3, 6, 4, 2]\n",
    "print(quicksort(test_arr))\n",
    "\n",
    "test_arr = [1, 2, 3]\n",
    "print(quicksort(test_arr))"
   ]
  },
  {
   "cell_type": "code",
   "execution_count": 50,
   "metadata": {
    "scrolled": false
   },
   "outputs": [
    {
     "name": "stdout",
     "output_type": "stream",
     "text": [
      "[1, 2, 3, 4, 5, 6, 7, 8] [2, 3, 4, 5, 6, 7, 8]\n"
     ]
    }
   ],
   "source": [
    "def partial_q_sort(arr, i, j):\n",
    "    # raw data\n",
    "    # print(\"raw:\", arr, \"i:\", i, \"j:\", j)\n",
    "    if 1 >= len(arr): return arr\n",
    "    \n",
    "    p = partition2(arr)\n",
    "    p += 1\n",
    "    # sorted\n",
    "    # print(\"parition:\", arr[:p], \",\", arr[p:], \"i:\", i, \"j:\", j)\n",
    "    \n",
    "    if i > p:\n",
    "        # do not sort left\n",
    "        #print(\"sort right only\")\n",
    "        arr[p:] = partial_q_sort(arr[p:], i-p, j-p)\n",
    "    elif j < p:\n",
    "        # do not sort right\n",
    "        #print(\"sort left only\")\n",
    "        arr[:p] = partial_q_sort(arr[:p], i, j)\n",
    "    else:\n",
    "        # sort both\n",
    "        #print(\"sort both\")\n",
    "        arr[:p] = partial_q_sort(arr[:p], i, p)\n",
    "        arr[p:] = partial_q_sort(arr[p:], 0, j-p)\n",
    "\n",
    "    return arr\n",
    "    \n",
    "test_arr = [5, 7, 1, 8, 3, 6, 4, 2]\n",
    "#test_arr = [3, 3, 3]\n",
    "i = 1\n",
    "j = 8\n",
    "rst = partial_q_sort(test_arr, i, j)\n",
    "print(test_arr, rst[i:j])"
   ]
  }
 ],
 "metadata": {
  "kernelspec": {
   "display_name": "Python 3",
   "language": "python",
   "name": "python3"
  },
  "language_info": {
   "codemirror_mode": {
    "name": "ipython",
    "version": 3
   },
   "file_extension": ".py",
   "mimetype": "text/x-python",
   "name": "python",
   "nbconvert_exporter": "python",
   "pygments_lexer": "ipython3",
   "version": "3.8.2"
  }
 },
 "nbformat": 4,
 "nbformat_minor": 4
}
