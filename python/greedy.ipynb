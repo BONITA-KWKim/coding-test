{
 "cells": [
  {
   "cell_type": "code",
   "execution_count": 10,
   "metadata": {},
   "outputs": [
    {
     "name": "stdout",
     "output_type": "stream",
     "text": [
      "500: 1, 100: 3, 50: 0, 10: 3\n"
     ]
    }
   ],
   "source": [
    "# changes\n",
    "coins = [500, 100, 50, 10]\n",
    "\n",
    "def making_change(changes):\n",
    "    made = [0, 0, 0, 0]\n",
    "    while changes > 0:\n",
    "        for idx, value in enumerate(coins):\n",
    "            if changes >= value:\n",
    "                made[idx] += 1\n",
    "                changes -= value\n",
    "                break\n",
    "                \n",
    "    return made\n",
    "\n",
    "rst = making_change(830)\n",
    "print(\"500: %d, 100: %d, 50: %d, 10: %d\" % (rst[0], rst[1], rst[2], rst[3]))"
   ]
  }
 ],
 "metadata": {
  "kernelspec": {
   "display_name": "Python 3",
   "language": "python",
   "name": "python3"
  },
  "language_info": {
   "codemirror_mode": {
    "name": "ipython",
    "version": 3
   },
   "file_extension": ".py",
   "mimetype": "text/x-python",
   "name": "python",
   "nbconvert_exporter": "python",
   "pygments_lexer": "ipython3",
   "version": "3.8.2"
  }
 },
 "nbformat": 4,
 "nbformat_minor": 4
}
