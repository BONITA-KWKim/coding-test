{
 "cells": [
  {
   "cell_type": "code",
   "execution_count": 19,
   "metadata": {},
   "outputs": [
    {
     "name": "stdout",
     "output_type": "stream",
     "text": [
      "[2, 5, 8, 11, 34, 67]\n"
     ]
    }
   ],
   "source": [
    "# merge sort\n",
    "def merge(left, right):\n",
    "    merged = []\n",
    "\n",
    "    while 0 < len(left) or 0 < len(right):\n",
    "        if 0 < len(left) and 0 < len(right):\n",
    "            if left[0] >= right[0]:\n",
    "                merged.append(right[0])\n",
    "                right = right[1:]\n",
    "            else:\n",
    "                merged.append(left[0])\n",
    "                left = left[1:]\n",
    "        elif 0 < len(left):\n",
    "            merged.append(left[0])\n",
    "            left = left[1:]\n",
    "        elif 0 < len(right):\n",
    "            merged.append(right[0])\n",
    "            right = right[1:]\n",
    "\n",
    "    return merged\n",
    "            \n",
    "def merge_sort(dataset):\n",
    "    size = len(dataset)\n",
    "    if 1 >= size:\n",
    "        return dataset;\n",
    "    \n",
    "    mid = size//2\n",
    "    left = merge_sort(dataset[:mid])\n",
    "    right = merge_sort(dataset[mid:])\n",
    "    \n",
    "    return merge(left, right)\n",
    "    \n",
    "    \n",
    "test_dataset = [11, 2, 34, 5, 67, 8]\n",
    "test_rst = merge_sort(test_dataset)\n",
    "print(test_rst)"
   ]
  },
  {
   "cell_type": "code",
   "execution_count": 29,
   "metadata": {},
   "outputs": [
    {
     "name": "stdout",
     "output_type": "stream",
     "text": [
      "1000000\n"
     ]
    }
   ],
   "source": [
    "# exponentiation\n",
    "def expo(base, exp):\n",
    "    if 0 == base:\n",
    "        return 1;\n",
    "    elif 1 == exp:\n",
    "        return base;\n",
    "    \n",
    "    if 0 == (exp % 2):\n",
    "        rst = expo(base, exp/2)\n",
    "        return rst * rst\n",
    "    else:\n",
    "        rst = expo(base, (exp-1)/2)\n",
    "        return rst * rst * base\n",
    "    \n",
    "test_rst = expo(100, 3)\n",
    "print(test_rst)"
   ]
  },
  {
   "cell_type": "code",
   "execution_count": 37,
   "metadata": {},
   "outputs": [
    {
     "name": "stdout",
     "output_type": "stream",
     "text": [
      "55\n"
     ]
    }
   ],
   "source": [
    "# fibonacci(recursive)\n",
    "def fibo(n):\n",
    "    if 0 == n or 1 == n:\n",
    "        return n\n",
    "    elif 2 == n:\n",
    "        return 1\n",
    "    \n",
    "    return fibo(n-1) + fibo(n-2)\n",
    "\n",
    "rst = fibo(10)\n",
    "print(rst)"
   ]
  }
 ],
 "metadata": {
  "kernelspec": {
   "display_name": "Python 3",
   "language": "python",
   "name": "python3"
  },
  "language_info": {
   "codemirror_mode": {
    "name": "ipython",
    "version": 3
   },
   "file_extension": ".py",
   "mimetype": "text/x-python",
   "name": "python",
   "nbconvert_exporter": "python",
   "pygments_lexer": "ipython3",
   "version": "3.8.2"
  }
 },
 "nbformat": 4,
 "nbformat_minor": 4
}
