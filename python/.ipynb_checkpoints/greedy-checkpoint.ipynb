{
 "cells": [
  {
   "cell_type": "code",
   "execution_count": 2,
   "metadata": {},
   "outputs": [
    {
     "name": "stdout",
     "output_type": "stream",
     "text": [
      "1\n"
     ]
    }
   ],
   "source": [
    "# changes\n",
    "coins = [500, 100, 50, 10]\n",
    "\n",
    "def making_change(changes):\n",
    "    made = [0, 0, 0, 0]\n",
    "    while changes > 0:\n",
    "        for idx, value in enumerate(coins):\n",
    "            if changes > value:\n",
    "                made[idx] += 1\n",
    "                changes -= value\n",
    "                \n",
    "    return count\n",
    "\n",
    "rst = making_change()\n",
    "print(rst)"
   ]
  }
 ],
 "metadata": {
  "kernelspec": {
   "display_name": "Python 3",
   "language": "python",
   "name": "python3"
  },
  "language_info": {
   "codemirror_mode": {
    "name": "ipython",
    "version": 3
   },
   "file_extension": ".py",
   "mimetype": "text/x-python",
   "name": "python",
   "nbconvert_exporter": "python",
   "pygments_lexer": "ipython3",
   "version": "3.8.2"
  }
 },
 "nbformat": 4,
 "nbformat_minor": 4
}
