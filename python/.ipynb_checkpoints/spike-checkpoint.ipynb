{
 "cells": [
  {
   "cell_type": "code",
   "execution_count": 10,
   "metadata": {},
   "outputs": [
    {
     "name": "stdout",
     "output_type": "stream",
     "text": [
      "[5, 6, 3]\n"
     ]
    }
   ],
   "source": [
    "def solution(array, commands):\n",
    "    answer = []\n",
    "    for i in commands:\n",
    "        sliced_array = array[i[0] - 1:i[1]] \n",
    "        sliced_array.sort()\n",
    "        answer.append(sliced_array[i[2]-1])\n",
    "        \n",
    "    return answer\n",
    "\n",
    "\n",
    "input = [1, 5, 2, 6, 3, 7, 4]\n",
    "cmds = [[2, 5, 3], [4, 4, 1], [1, 7, 3]]\n",
    "rst = solution(input, cmds)\n",
    "print(rst)"
   ]
  },
  {
   "cell_type": "code",
   "execution_count": 24,
   "metadata": {},
   "outputs": [
    {
     "name": "stdout",
     "output_type": "stream",
     "text": [
      "[[6, 10, 2], [6, 2, 10], [10, 6, 2], [10, 2, 6], [2, 6, 10], [2, 10, 6]]\n",
      "[[6, 10, 2], [6, 2, 10], [10, 6, 2], [10, 2, 6], [2, 6, 10], [2, 10, 6]]\n",
      "[6102, 6210, 1062, 1026, 2610, 2106]\n"
     ]
    }
   ],
   "source": [
    "# 순열\n",
    "def perm(lst,n):\n",
    "    ret = []\n",
    "    if n > len(lst): return ret\n",
    "\n",
    "    if n==1:\n",
    "        for i in lst:\n",
    "            ret.append([i])\n",
    "    elif n>1:\n",
    "        for i in range(len(lst)):\n",
    "            temp = [i for i in lst]\n",
    "            temp.remove(lst[i])\n",
    "            \n",
    "            for p in perm(temp,n-1):\n",
    "                ret.append([lst[i]]+p)\n",
    "    \n",
    "    return ret\n",
    "\n",
    "def perm_number(arr):\n",
    "    rst = []\n",
    "    \n",
    "    size = len(arr)\n",
    "    if 0 > size:\n",
    "        return rst\n",
    "    elif 1 == size:\n",
    "        for i in arr:\n",
    "            rst.append([i])\n",
    "    \n",
    "    for i in range(size):\n",
    "        tmp = [i for i in arr]\n",
    "        tmp.remove(arr[i])\n",
    "        \n",
    "        for p in perm_number(tmp):\n",
    "            rst.append([arr[i]] + p)\n",
    "    \n",
    "    return rst\n",
    "    \n",
    "def make_deximal(lst):\n",
    "    rst = []\n",
    "    \n",
    "    for item in lst:\n",
    "        tmp_str = \"\"\n",
    "        for i in item:\n",
    "            tmp_str += str(i)\n",
    "        rst.append(int(tmp_str))\n",
    "    \n",
    "    return rst\n",
    "    \n",
    "print(perm([6, 10, 2], 3))\n",
    "print(perm_number([6, 10, 2]))\n",
    "print(make_deximal(perm_number([6, 10, 2])))"
   ]
  },
  {
   "cell_type": "code",
   "execution_count": 30,
   "metadata": {},
   "outputs": [
    {
     "name": "stdout",
     "output_type": "stream",
     "text": [
      "\n"
     ]
    }
   ],
   "source": [
    "def solution(numbers):\n",
    "    answer = ''\n",
    "    \n",
    "    candidates = make_deximal(perm_number(numbers))\n",
    "    \n",
    "    if 0 < len(candidates):\n",
    "        candidates.sort()\n",
    "        answer = str(candidates[-1])\n",
    "    \n",
    "    return answer\n",
    "\n",
    "def perm_number(arr):\n",
    "    rst = []\n",
    "    \n",
    "    size = len(arr)\n",
    "    if 0 > size:\n",
    "        return rst\n",
    "    elif 1 == size:\n",
    "        for i in arr:\n",
    "            rst.append([i])\n",
    "    \n",
    "    for i in range(size):\n",
    "        tmp = [i for i in arr]\n",
    "        tmp.remove(arr[i])\n",
    "        \n",
    "        for p in perm_number(tmp):\n",
    "            rst.append([arr[i]] + p)\n",
    "    \n",
    "    return rst\n",
    "    \n",
    "def make_deximal(lst):\n",
    "    rst = []\n",
    "    \n",
    "    if 0 >= len(lst):\n",
    "        return rst\n",
    "    \n",
    "    for item in lst:\n",
    "        tmp_str = \"\"\n",
    "        for i in item:\n",
    "            tmp_str += str(i)\n",
    "        rst.append(int(tmp_str))\n",
    "    \n",
    "    return rst\n",
    "    \n",
    "print(solution([]))"
   ]
  },
  {
   "cell_type": "code",
   "execution_count": 37,
   "metadata": {},
   "outputs": [
    {
     "name": "stdout",
     "output_type": "stream",
     "text": [
      "['6', '2', '10']\n",
      "6210\n",
      "['9', '5', '34', '30', '3']\n",
      "9534303\n"
     ]
    }
   ],
   "source": [
    "def solution(numbers):\n",
    "    answer = ''\n",
    "\n",
    "    if 0 >= len(numbers): return\n",
    "    \n",
    "    tmp = []\n",
    "    for i in numbers:\n",
    "        tmp.append(str(i))\n",
    "        \n",
    "    tmp.sort(reverse=True)\n",
    "    \n",
    "    print(tmp)\n",
    "    \n",
    "    for i in tmp:\n",
    "        answer += i\n",
    "    \n",
    "    return answer\n",
    "\n",
    "\n",
    "print(solution([6, 10, 2]))\n",
    "print(solution([3, 30, 34, 5, 9]))"
   ]
  },
  {
   "cell_type": "code",
   "execution_count": 42,
   "metadata": {},
   "outputs": [
    {
     "name": "stdout",
     "output_type": "stream",
     "text": [
      "2\n"
     ]
    }
   ],
   "source": [
    "def solution(citations):\n",
    "    answer = 0\n",
    "    \n",
    "    n = len(citations)\n",
    "\n",
    "    if 0 >= n: return\n",
    "    \n",
    "    citations.sort(reverse=True)\n",
    "    print(\"citation:\", citations)\n",
    "    for h in range(n):\n",
    "        count = 0\n",
    "        for i in citations:\n",
    "            if i > n:\n",
    "                continue\n",
    "            \n",
    "            if i >= h:\n",
    "                count += 1\n",
    "        \n",
    "        if count >= h:\n",
    "            answer = h\n",
    "    \n",
    "    return answer\n",
    "\n",
    "print(solution([3, 0, 6, 1, 5]))"
   ]
  }
 ],
 "metadata": {
  "kernelspec": {
   "display_name": "Python 3",
   "language": "python",
   "name": "python3"
  },
  "language_info": {
   "codemirror_mode": {
    "name": "ipython",
    "version": 3
   },
   "file_extension": ".py",
   "mimetype": "text/x-python",
   "name": "python",
   "nbconvert_exporter": "python",
   "pygments_lexer": "ipython3",
   "version": "3.8.2"
  }
 },
 "nbformat": 4,
 "nbformat_minor": 4
}
